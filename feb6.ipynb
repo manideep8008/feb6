{
 "cells": [
  {
   "cell_type": "code",
   "execution_count": 35,
   "id": "cd43d473",
   "metadata": {},
   "outputs": [],
   "source": [
    "def prod(x):\n",
    "    l=[]\n",
    "    for i in x:\n",
    "        if type(i)==int or type(i)==float:\n",
    "            l.append(i)\n",
    "        if type(i)==list or type(i)==tuple or type(i)==set:\n",
    "            for j in i:\n",
    "                if type(j)==int or type(j)==float:\n",
    "                    l.append(j)\n",
    "        if type(i)==dict:\n",
    "            for j in i.keys():\n",
    "                if type(j)==int or type(j)==float:\n",
    "                    l.append(j)\n",
    "                elif type(j)==list or type(j)==tuple or type(j)==set:\n",
    "                    for k in j:\n",
    "                        if type(k)==int or type(k)==float:\n",
    "                            l.append(k)\n",
    "               \n",
    "            for j in i.values():\n",
    "                if type(j)==int or type(j)==float:\n",
    "                    l.append(j)\n",
    "                elif type(j)==list or type(j)==tuple or type(j)==set:\n",
    "                    for k in j:\n",
    "                        if type(k)==int or type(k)==float:\n",
    "                            l.append(k)\n",
    "                \n",
    "            \n",
    "    return l\n",
    "    "
   ]
  },
  {
   "cell_type": "code",
   "execution_count": 36,
   "id": "5c8ea573",
   "metadata": {},
   "outputs": [],
   "source": [
    "l=[1,2,3,4, [44,55,66, True], False, (34,56,78,89,34), {1,2,3,3,2,1}, {1:34, \"key2\": [55, 67, 78, 89], 4: (45,\n",
    "22, 61, 34)}, [56, 'data science'], 'Machine Learning']"
   ]
  },
  {
   "cell_type": "code",
   "execution_count": 38,
   "id": "fe1498da",
   "metadata": {},
   "outputs": [],
   "source": [
    "ans=prod(l)"
   ]
  },
  {
   "cell_type": "code",
   "execution_count": 39,
   "id": "206c3496",
   "metadata": {},
   "outputs": [
    {
     "data": {
      "text/plain": [
       "[1,\n",
       " 2,\n",
       " 3,\n",
       " 4,\n",
       " 44,\n",
       " 55,\n",
       " 66,\n",
       " 34,\n",
       " 56,\n",
       " 78,\n",
       " 89,\n",
       " 34,\n",
       " 1,\n",
       " 2,\n",
       " 3,\n",
       " 1,\n",
       " 4,\n",
       " 34,\n",
       " 55,\n",
       " 67,\n",
       " 78,\n",
       " 89,\n",
       " 45,\n",
       " 22,\n",
       " 61,\n",
       " 34,\n",
       " 56]"
      ]
     },
     "execution_count": 39,
     "metadata": {},
     "output_type": "execute_result"
    }
   ],
   "source": [
    "ans"
   ]
  },
  {
   "cell_type": "code",
   "execution_count": 40,
   "id": "fe17f186",
   "metadata": {},
   "outputs": [
    {
     "data": {
      "text/plain": [
       "4134711838987085478833841242112000"
      ]
     },
     "execution_count": 40,
     "metadata": {},
     "output_type": "execute_result"
    }
   ],
   "source": [
    "from functools import reduce\n",
    "reduce(lambda x,y:x*y,ans)"
   ]
  },
  {
   "cell_type": "code",
   "execution_count": 76,
   "id": "93ee5212",
   "metadata": {},
   "outputs": [
    {
     "data": {
      "text/plain": [
       "'I want to become a Data Scientist'"
      ]
     },
     "execution_count": 76,
     "metadata": {},
     "output_type": "execute_result"
    }
   ],
   "source": [
    "str=\"I want to become a Data Scientist\"\n",
    "str"
   ]
  },
  {
   "cell_type": "code",
   "execution_count": 77,
   "id": "39e5a782",
   "metadata": {},
   "outputs": [
    {
     "data": {
      "text/plain": [
       "'i want to become a data scientist'"
      ]
     },
     "execution_count": 77,
     "metadata": {},
     "output_type": "execute_result"
    }
   ],
   "source": [
    "str.lower()"
   ]
  },
  {
   "cell_type": "code",
   "execution_count": 78,
   "id": "6996999f",
   "metadata": {},
   "outputs": [
    {
     "name": "stdout",
     "output_type": "stream",
     "text": [
      "r$dzmg$gl$yvxlnv$z$wzgz$hxrvmgrhg\n"
     ]
    }
   ],
   "source": [
    "s=\"\"\n",
    "for i in str.lower():\n",
    "    if i==' ':\n",
    "        s=s+'$'\n",
    "    else:\n",
    "        s=s+chr(ord('z')-ord(i)+97)\n",
    "print(s)"
   ]
  }
 ],
 "metadata": {
  "kernelspec": {
   "display_name": "Python 3 (ipykernel)",
   "language": "python",
   "name": "python3"
  },
  "language_info": {
   "codemirror_mode": {
    "name": "ipython",
    "version": 3
   },
   "file_extension": ".py",
   "mimetype": "text/x-python",
   "name": "python",
   "nbconvert_exporter": "python",
   "pygments_lexer": "ipython3",
   "version": "3.9.13"
  }
 },
 "nbformat": 4,
 "nbformat_minor": 5
}
